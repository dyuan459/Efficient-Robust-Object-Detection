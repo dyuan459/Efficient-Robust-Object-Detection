{
 "cells": [
  {
   "cell_type": "code",
   "execution_count": 1,
   "metadata": {},
   "outputs": [],
   "source": [
    "import json\n",
    "\n",
    "# Load JSON file\n",
    "with open('../data/COCO2017/annotations/instances_train2017.json', 'r') as f:\n",
    "    data = json.load(f)\n",
    "\n",
    "# Iterate through annotations and remove segmentation field\n",
    "for annotation in data['annotations']:\n",
    "    del annotation['segmentation']\n",
    "\n",
    "# Save modified JSON back to the file\n",
    "with open('../data/COCO2017/annotations/instances_train2017_modified.json', 'w') as f:\n",
    "    json.dump(data, f, indent=4)"
   ]
  }
 ],
 "metadata": {
  "kernelspec": {
   "display_name": "env",
   "language": "python",
   "name": "python3"
  },
  "language_info": {
   "codemirror_mode": {
    "name": "ipython",
    "version": 3
   },
   "file_extension": ".py",
   "mimetype": "text/x-python",
   "name": "python",
   "nbconvert_exporter": "python",
   "pygments_lexer": "ipython3",
   "version": "3.11.5"
  }
 },
 "nbformat": 4,
 "nbformat_minor": 2
}
