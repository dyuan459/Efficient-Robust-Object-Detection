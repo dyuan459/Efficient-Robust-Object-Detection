{
 "cells": [
  {
   "cell_type": "code",
   "execution_count": 1,
   "metadata": {},
   "outputs": [],
   "source": [
    "import torchvision.transforms as transforms\n",
    "from torchvision.datasets import CocoDetection\n",
    "from pycocotools.coco import COCO\n",
    "import numpy as np\n",
    "import skimage.io as io\n",
    "import matplotlib.pyplot as plt\n",
    "import pylab\n"
   ]
  },
  {
   "cell_type": "markdown",
   "metadata": {},
   "source": [
    "Creating dataset\n"
   ]
  },
  {
   "cell_type": "code",
   "execution_count": 2,
   "metadata": {},
   "outputs": [
    {
     "name": "stdout",
     "output_type": "stream",
     "text": [
      "loading annotations into memory...\n",
      "Done (t=0.00s)\n",
      "creating index...\n",
      "index created!\n"
     ]
    }
   ],
   "source": [
    "# root = \"./content/COCO2017/val2017\"\n",
    "# annFile = \"./content/COCO2017/annotations/instances_val2017.json\"\n",
    "root = \"./content/VOC2007/JPEGImages\"\n",
    "annFile = \"./content/VOC2007/annotations/val.json\"\n",
    "\n",
    "# Define any transformations you want to apply to the images\n",
    "transform = transforms.Compose([\n",
    "    # transforms.Resize((256, 256)),\n",
    "    transforms.ToTensor(),\n",
    "    # Add more transformations as needed\n",
    "])\n",
    "\n",
    "# Create an instance of the CocoDetection dataset\n",
    "coco_dataset = CocoDetection(root=root, annFile=annFile, transform=transform)\n",
    "\n",
    "\n",
    "# Now you can work with the image and target\n",
    "# 'image' is a tensor representing the image\n",
    "# 'target' contains the annotations corresponding to the image"
   ]
  },
  {
   "cell_type": "markdown",
   "metadata": {},
   "source": [
    "get a sample"
   ]
  },
  {
   "cell_type": "code",
   "execution_count": 3,
   "metadata": {},
   "outputs": [
    {
     "data": {
      "text/plain": [
       "<matplotlib.image.AxesImage at 0x21ec96f7bd0>"
      ]
     },
     "execution_count": 3,
     "metadata": {},
     "output_type": "execute_result"
    }
   ],
   "source": [
    "import cv2\n",
    "\n",
    "# Assuming you've already loaded the image and target from the dataset\n",
    "# image, target = coco_dataset[sample_index]\n",
    "\n",
    "# Accessing the dataset\n",
    "sample_index = 0\n",
    "image, target = coco_dataset[sample_index]\n",
    "\n",
    "# Convert the tensor image to NumPy array and transpose it to (H, W, C) format\n",
    "imageN = image.permute(1, 2, 0).numpy()\n",
    "\n",
    "# Convert from RGB to BGR (OpenCV uses BGR format)\n",
    "imageN = cv2.cvtColor(imageN, cv2.COLOR_RGB2BGR)\n",
    "\n",
    "plt.imshow(imageN)"
   ]
  },
  {
   "cell_type": "markdown",
   "metadata": {},
   "source": [
    "create dataloader"
   ]
  },
  {
   "cell_type": "code",
   "execution_count": 4,
   "metadata": {},
   "outputs": [],
   "source": [
    "import torch\n",
    "from torch.utils.data import DataLoader\n",
    "\n",
    "# Define batch size\n",
    "batch_size = 32\n",
    "\n",
    "def collate_fn(batch):\n",
    "    return tuple(zip(*batch))\n",
    "\n",
    "# Create a DataLoader for your COCO dataset\n",
    "data_loader = DataLoader(coco_dataset, batch_size=batch_size, shuffle=True, collate_fn=collate_fn)\n",
    "\n",
    "# # Iterate through the DataLoader to access batches of data\n",
    "# for batch in data_loader:\n",
    "#     images, targets = batch"
   ]
  },
  {
   "cell_type": "markdown",
   "metadata": {},
   "source": [
    "iterate through and display a batch"
   ]
  },
  {
   "cell_type": "code",
   "execution_count": 5,
   "metadata": {},
   "outputs": [
    {
     "name": "stderr",
     "output_type": "stream",
     "text": [
      "C:\\Users\\anton\\AppData\\Local\\Temp\\ipykernel_10084\\3601076287.py:16: UserWarning: Matplotlib is currently using agg, which is a non-GUI backend, so cannot show the figure.\n",
      "  plt.show()\n"
     ]
    }
   ],
   "source": [
    "import matplotlib.pyplot as plt\n",
    "\n",
    "# Get the first batch from the DataLoader\n",
    "images, targets = next(iter(data_loader))\n",
    "\n",
    "# Define a function to display images\n",
    "def show_images(images):\n",
    "    # Create a grid of images\n",
    "    fig, axes = plt.subplots(4, 8, figsize=(16, 8))\n",
    "    for i, ax in enumerate(axes.flat):\n",
    "        # Convert the tensor to numpy array and transpose the dimensions\n",
    "        image_np = images[i].permute(1, 2, 0).numpy()\n",
    "        # Plot the image\n",
    "        ax.imshow(image_np)\n",
    "        ax.axis('off')\n",
    "    plt.show()\n",
    "\n",
    "# Display the images from the first batch\n",
    "show_images(images)"
   ]
  },
  {
   "cell_type": "code",
   "execution_count": 7,
   "metadata": {},
   "outputs": [
    {
     "name": "stdout",
     "output_type": "stream",
     "text": [
      "([{'area': 54095, 'iscrowd': 0, 'bbox': [73, 53, 349, 155], 'category_id': 3, 'ignore': 0, 'segmentation': [], 'image_id': 1074, 'id': 296}], [{'area': 96942, 'iscrowd': 0, 'bbox': [88, 54, 302, 321], 'category_id': 15, 'ignore': 0, 'segmentation': [], 'image_id': 6351, 'id': 562}, {'area': 12198, 'iscrowd': 0, 'bbox': [25, 108, 107, 114], 'category_id': 16, 'ignore': 0, 'segmentation': [], 'image_id': 6351, 'id': 563}, {'area': 12096, 'iscrowd': 0, 'bbox': [357, 118, 108, 112], 'category_id': 16, 'ignore': 0, 'segmentation': [], 'image_id': 6351, 'id': 564}], [{'area': 154488, 'iscrowd': 0, 'bbox': [21, 21, 328, 471], 'category_id': 12, 'ignore': 0, 'segmentation': [], 'image_id': 501, 'id': 138}], [{'area': 46148, 'iscrowd': 0, 'bbox': [165, 68, 278, 166], 'category_id': 1, 'ignore': 0, 'segmentation': [], 'image_id': 647, 'id': 179}], [{'area': 173445, 'iscrowd': 0, 'bbox': [0, 2, 465, 373], 'category_id': 10, 'ignore': 0, 'segmentation': [], 'image_id': 462, 'id': 129}], [{'area': 49130, 'iscrowd': 0, 'bbox': [57, 41, 170, 289], 'category_id': 15, 'ignore': 0, 'segmentation': [], 'image_id': 8122, 'id': 694}, {'area': 19418, 'iscrowd': 0, 'bbox': [273, 60, 133, 146], 'category_id': 15, 'ignore': 0, 'segmentation': [], 'image_id': 8122, 'id': 695}, {'area': 9856, 'iscrowd': 0, 'bbox': [3, 208, 112, 88], 'category_id': 11, 'ignore': 0, 'segmentation': [], 'image_id': 8122, 'id': 696}, {'area': 5310, 'iscrowd': 0, 'bbox': [2, 212, 45, 118], 'category_id': 9, 'ignore': 0, 'segmentation': [], 'image_id': 8122, 'id': 697}, {'area': 8308, 'iscrowd': 0, 'bbox': [47, 198, 62, 134], 'category_id': 9, 'ignore': 0, 'segmentation': [], 'image_id': 8122, 'id': 698}, {'area': 3312, 'iscrowd': 0, 'bbox': [274, 151, 46, 72], 'category_id': 9, 'ignore': 0, 'segmentation': [], 'image_id': 8122, 'id': 699}], [{'area': 177816, 'iscrowd': 0, 'bbox': [9, 1, 478, 372], 'category_id': 2, 'ignore': 0, 'segmentation': [], 'image_id': 637, 'id': 178}], [{'area': 121302, 'iscrowd': 0, 'bbox': [86, 38, 414, 293], 'category_id': 10, 'ignore': 0, 'segmentation': [], 'image_id': 728, 'id': 203}], [{'area': 176364, 'iscrowd': 0, 'bbox': [10, 31, 426, 414], 'category_id': 4, 'ignore': 0, 'segmentation': [], 'image_id': 826, 'id': 233}], [{'area': 110460, 'iscrowd': 0, 'bbox': [2, 70, 420, 263], 'category_id': 18, 'ignore': 0, 'segmentation': [], 'image_id': 7114, 'id': 617}, {'area': 54912, 'iscrowd': 0, 'bbox': [221, 21, 176, 312], 'category_id': 15, 'ignore': 0, 'segmentation': [], 'image_id': 7114, 'id': 618}, {'area': 41302, 'iscrowd': 0, 'bbox': [49, 139, 214, 193], 'category_id': 15, 'ignore': 0, 'segmentation': [], 'image_id': 7114, 'id': 619}], [{'area': 13900, 'iscrowd': 0, 'bbox': [290, 210, 139, 100], 'category_id': 2, 'ignore': 0, 'segmentation': [], 'image_id': 6990, 'id': 607}, {'area': 8064, 'iscrowd': 0, 'bbox': [322, 140, 48, 168], 'category_id': 15, 'ignore': 0, 'segmentation': [], 'image_id': 6990, 'id': 608}], [{'area': 21060, 'iscrowd': 0, 'bbox': [162, 54, 156, 135], 'category_id': 19, 'ignore': 0, 'segmentation': [], 'image_id': 1083, 'id': 297}], [{'area': 30848, 'iscrowd': 0, 'bbox': [218, 232, 241, 128], 'category_id': 11, 'ignore': 0, 'segmentation': [], 'image_id': 7350, 'id': 637}, {'area': 23628, 'iscrowd': 0, 'bbox': [3, 196, 179, 132], 'category_id': 11, 'ignore': 0, 'segmentation': [], 'image_id': 7350, 'id': 638}, {'area': 1485, 'iscrowd': 0, 'bbox': [86, 180, 55, 27], 'category_id': 9, 'ignore': 0, 'segmentation': [], 'image_id': 7350, 'id': 639}, {'area': 6336, 'iscrowd': 0, 'bbox': [90, 208, 72, 88], 'category_id': 9, 'ignore': 0, 'segmentation': [], 'image_id': 7350, 'id': 640}, {'area': 8938, 'iscrowd': 0, 'bbox': [176, 226, 82, 109], 'category_id': 9, 'ignore': 0, 'segmentation': [], 'image_id': 7350, 'id': 641}, {'area': 3172, 'iscrowd': 0, 'bbox': [276, 205, 52, 61], 'category_id': 9, 'ignore': 0, 'segmentation': [], 'image_id': 7350, 'id': 642}, {'area': 21450, 'iscrowd': 0, 'bbox': [170, 74, 75, 286], 'category_id': 15, 'ignore': 0, 'segmentation': [], 'image_id': 7350, 'id': 643}, {'area': 14040, 'iscrowd': 0, 'bbox': [244, 86, 72, 195], 'category_id': 15, 'ignore': 0, 'segmentation': [], 'image_id': 7350, 'id': 644}], [{'area': 10578, 'iscrowd': 0, 'bbox': [138, 13, 82, 129], 'category_id': 4, 'ignore': 0, 'segmentation': [], 'image_id': 608, 'id': 174}, {'area': 72393, 'iscrowd': 0, 'bbox': [11, 109, 409, 177], 'category_id': 4, 'ignore': 0, 'segmentation': [], 'image_id': 608, 'id': 175}], [{'area': 135676, 'iscrowd': 0, 'bbox': [51, 54, 428, 317], 'category_id': 7, 'ignore': 0, 'segmentation': [], 'image_id': 1093, 'id': 300}, {'area': 1820, 'iscrowd': 0, 'bbox': [108, 38, 70, 26], 'category_id': 7, 'ignore': 0, 'segmentation': [], 'image_id': 1093, 'id': 301}, {'area': 238, 'iscrowd': 0, 'bbox': [253, 42, 17, 14], 'category_id': 7, 'ignore': 0, 'segmentation': [], 'image_id': 1093, 'id': 302}, {'area': 204, 'iscrowd': 0, 'bbox': [219, 42, 17, 12], 'category_id': 7, 'ignore': 0, 'segmentation': [], 'image_id': 1093, 'id': 303}], [{'area': 40260, 'iscrowd': 0, 'bbox': [365, 70, 132, 305], 'category_id': 15, 'ignore': 0, 'segmentation': [], 'image_id': 7763, 'id': 663}, {'area': 26474, 'iscrowd': 0, 'bbox': [255, 68, 122, 217], 'category_id': 15, 'ignore': 0, 'segmentation': [], 'image_id': 7763, 'id': 664}, {'area': 10419, 'iscrowd': 0, 'bbox': [138, 102, 69, 151], 'category_id': 15, 'ignore': 0, 'segmentation': [], 'image_id': 7763, 'id': 665}, {'area': 20868, 'iscrowd': 0, 'bbox': [161, 78, 111, 188], 'category_id': 15, 'ignore': 0, 'segmentation': [], 'image_id': 7763, 'id': 666}, {'area': 22770, 'iscrowd': 0, 'bbox': [48, 177, 115, 198], 'category_id': 15, 'ignore': 0, 'segmentation': [], 'image_id': 7763, 'id': 667}, {'area': 24300, 'iscrowd': 0, 'bbox': [109, 195, 135, 180], 'category_id': 15, 'ignore': 0, 'segmentation': [], 'image_id': 7763, 'id': 668}, {'area': 30560, 'iscrowd': 0, 'bbox': [202, 215, 191, 160], 'category_id': 15, 'ignore': 0, 'segmentation': [], 'image_id': 7763, 'id': 669}], [{'area': 48372, 'iscrowd': 0, 'bbox': [142, 184, 278, 174], 'category_id': 12, 'ignore': 0, 'segmentation': [], 'image_id': 6488, 'id': 572}, {'area': 78486, 'iscrowd': 0, 'bbox': [244, 50, 254, 309], 'category_id': 15, 'ignore': 0, 'segmentation': [], 'image_id': 6488, 'id': 573}], [{'area': 155820, 'iscrowd': 0, 'bbox': [0, 13, 490, 318], 'category_id': 15, 'ignore': 0, 'segmentation': [], 'image_id': 5657, 'id': 513}], [{'area': 16478, 'iscrowd': 0, 'bbox': [279, 194, 107, 154], 'category_id': 2, 'ignore': 0, 'segmentation': [], 'image_id': 8433, 'id': 720}, {'area': 13140, 'iscrowd': 0, 'bbox': [171, 125, 90, 146], 'category_id': 2, 'ignore': 0, 'segmentation': [], 'image_id': 8433, 'id': 721}, {'area': 12408, 'iscrowd': 0, 'bbox': [106, 77, 94, 132], 'category_id': 2, 'ignore': 0, 'segmentation': [], 'image_id': 8433, 'id': 722}, {'area': 29949, 'iscrowd': 0, 'bbox': [273, 102, 149, 201], 'category_id': 15, 'ignore': 0, 'segmentation': [], 'image_id': 8433, 'id': 723}, {'area': 24192, 'iscrowd': 0, 'bbox': [169, 42, 126, 192], 'category_id': 15, 'ignore': 0, 'segmentation': [], 'image_id': 8433, 'id': 724}, {'area': 18643, 'iscrowd': 0, 'bbox': [124, 13, 103, 181], 'category_id': 15, 'ignore': 0, 'segmentation': [], 'image_id': 8433, 'id': 725}], [{'area': 32922, 'iscrowd': 0, 'bbox': [163, 96, 118, 279], 'category_id': 8, 'ignore': 0, 'segmentation': [], 'image_id': 118, 'id': 43}], [{'area': 196980, 'iscrowd': 0, 'bbox': [3, 6, 469, 420], 'category_id': 12, 'ignore': 0, 'segmentation': [], 'image_id': 336, 'id': 102}], [{'area': 163800, 'iscrowd': 0, 'bbox': [1, 50, 364, 450], 'category_id': 7, 'ignore': 0, 'segmentation': [], 'image_id': 3655, 'id': 413}, {'area': 91872, 'iscrowd': 0, 'bbox': [95, 36, 198, 464], 'category_id': 15, 'ignore': 0, 'segmentation': [], 'image_id': 3655, 'id': 414}], [{'area': 3096, 'iscrowd': 0, 'bbox': [26, 205, 43, 72], 'category_id': 12, 'ignore': 0, 'segmentation': [], 'image_id': 8509, 'id': 728}, {'area': 3478, 'iscrowd': 0, 'bbox': [223, 177, 47, 74], 'category_id': 12, 'ignore': 0, 'segmentation': [], 'image_id': 8509, 'id': 729}, {'area': 6396, 'iscrowd': 0, 'bbox': [337, 194, 82, 78], 'category_id': 12, 'ignore': 0, 'segmentation': [], 'image_id': 8509, 'id': 730}, {'area': 13690, 'iscrowd': 0, 'bbox': [93, 64, 74, 185], 'category_id': 13, 'ignore': 0, 'segmentation': [], 'image_id': 8509, 'id': 731}, {'area': 16168, 'iscrowd': 0, 'bbox': [81, 5, 94, 172], 'category_id': 15, 'ignore': 0, 'segmentation': [], 'image_id': 8509, 'id': 732}], [{'area': 27451, 'iscrowd': 0, 'bbox': [115, 175, 97, 283], 'category_id': 13, 'ignore': 0, 'segmentation': [], 'image_id': 1084, 'id': 298}, {'area': 30099, 'iscrowd': 0, 'bbox': [98, 100, 127, 237], 'category_id': 15, 'ignore': 0, 'segmentation': [], 'image_id': 1084, 'id': 299}], [{'area': 72624, 'iscrowd': 0, 'bbox': [59, 43, 272, 267], 'category_id': 12, 'ignore': 0, 'segmentation': [], 'image_id': 246, 'id': 75}], [{'area': 89893, 'iscrowd': 0, 'bbox': [21, 0, 241, 373], 'category_id': 8, 'ignore': 0, 'segmentation': [], 'image_id': 8485, 'id': 726}, {'area': 184635, 'iscrowd': 0, 'bbox': [4, 2, 495, 373], 'category_id': 15, 'ignore': 0, 'segmentation': [], 'image_id': 8485, 'id': 727}], [{'area': 3726, 'iscrowd': 0, 'bbox': [1, 176, 69, 54], 'category_id': 12, 'ignore': 0, 'segmentation': [], 'image_id': 4142, 'id': 441}, {'area': 54720, 'iscrowd': 0, 'bbox': [78, 52, 180, 304], 'category_id': 15, 'ignore': 0, 'segmentation': [], 'image_id': 4142, 'id': 442}, {'area': 132000, 'iscrowd': 0, 'bbox': [123, 0, 352, 375], 'category_id': 15, 'ignore': 0, 'segmentation': [], 'image_id': 4142, 'id': 443}, {'area': 30719, 'iscrowd': 0, 'bbox': [0, 122, 139, 221], 'category_id': 18, 'ignore': 0, 'segmentation': [], 'image_id': 4142, 'id': 444}, {'area': 2914, 'iscrowd': 0, 'bbox': [469, 191, 31, 94], 'category_id': 9, 'ignore': 0, 'segmentation': [], 'image_id': 4142, 'id': 445}], [{'area': 173910, 'iscrowd': 0, 'bbox': [35, 0, 465, 374], 'category_id': 1, 'ignore': 0, 'segmentation': [], 'image_id': 514, 'id': 141}], [{'area': 5395, 'iscrowd': 0, 'bbox': [219, 207, 83, 65], 'category_id': 8, 'ignore': 0, 'segmentation': [], 'image_id': 794, 'id': 225}], [{'area': 101160, 'iscrowd': 0, 'bbox': [140, 49, 360, 281], 'category_id': 7, 'ignore': 0, 'segmentation': [], 'image_id': 7, 'id': 6}], [{'area': 44571, 'iscrowd': 0, 'bbox': [93, 251, 179, 249], 'category_id': 12, 'ignore': 0, 'segmentation': [], 'image_id': 7760, 'id': 661}, {'area': 163513, 'iscrowd': 0, 'bbox': [1, 3, 329, 497], 'category_id': 15, 'ignore': 0, 'segmentation': [], 'image_id': 7760, 'id': 662}], [{'area': 43855, 'iscrowd': 0, 'bbox': [47, 130, 179, 245], 'category_id': 9, 'ignore': 0, 'segmentation': [], 'image_id': 1531, 'id': 360}, {'area': 46689, 'iscrowd': 0, 'bbox': [272, 138, 197, 237], 'category_id': 9, 'ignore': 0, 'segmentation': [], 'image_id': 1531, 'id': 361}, {'area': 57905, 'iscrowd': 0, 'bbox': [278, 62, 185, 313], 'category_id': 15, 'ignore': 0, 'segmentation': [], 'image_id': 1531, 'id': 362}, {'area': 38868, 'iscrowd': 0, 'bbox': [102, 59, 123, 316], 'category_id': 15, 'ignore': 0, 'segmentation': [], 'image_id': 1531, 'id': 363}])\n",
      "[{'area': 54095, 'iscrowd': 0, 'bbox': [73, 53, 349, 155], 'category_id': 3, 'ignore': 0, 'segmentation': [], 'image_id': 1074, 'id': 296}]\n"
     ]
    }
   ],
   "source": [
    "print(targets)\n",
    "print(targets[0])"
   ]
  }
 ],
 "metadata": {
  "kernelspec": {
   "display_name": "base",
   "language": "python",
   "name": "python3"
  },
  "language_info": {
   "codemirror_mode": {
    "name": "ipython",
    "version": 3
   },
   "file_extension": ".py",
   "mimetype": "text/x-python",
   "name": "python",
   "nbconvert_exporter": "python",
   "pygments_lexer": "ipython3",
   "version": "3.11.5"
  }
 },
 "nbformat": 4,
 "nbformat_minor": 2
}
